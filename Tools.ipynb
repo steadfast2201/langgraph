{
 "cells": [
  {
   "cell_type": "code",
   "execution_count": 23,
   "id": "ef10e023",
   "metadata": {},
   "outputs": [],
   "source": [
    "from langgraph.graph import StateGraph, START, END\n",
    "from typing import TypedDict, Annotated\n",
    "from langchain_core.messages import BaseMessage, HumanMessage\n",
    "from langchain_community.chat_models import ChatOllama\n",
    "from langgraph.graph.message import add_messages\n",
    "from dotenv import load_dotenv\n",
    "\n",
    "from langgraph.prebuilt import ToolNode, tools_condition\n",
    "from langchain_community.tools import DuckDuckGoSearchRun\n",
    "from langchain_core.tools import tool\n",
    "\n",
    "import requests\n",
    "import random"
   ]
  },
  {
   "cell_type": "code",
   "execution_count": 24,
   "id": "5e6ff2f1",
   "metadata": {},
   "outputs": [
    {
     "data": {
      "text/plain": [
       "True"
      ]
     },
     "execution_count": 24,
     "metadata": {},
     "output_type": "execute_result"
    }
   ],
   "source": [
    "load_dotenv()"
   ]
  },
  {
   "cell_type": "code",
   "execution_count": 25,
   "id": "95e00b1b",
   "metadata": {},
   "outputs": [],
   "source": [
    "llm = ChatOllama(model=\"qwen3:1.7b\", temperature=0)"
   ]
  },
  {
   "cell_type": "code",
   "execution_count": 26,
   "id": "9b57615d",
   "metadata": {},
   "outputs": [],
   "source": [
    "search_tool = DuckDuckGoSearchRun(region=\"un-en\") # type:ignore"
   ]
  },
  {
   "cell_type": "code",
   "execution_count": 27,
   "id": "f66492f1",
   "metadata": {},
   "outputs": [],
   "source": [
    "@tool\n",
    "def calculator(first_num: float, second_num: float, operation: str) -> dict:\n",
    "    \"\"\"\n",
    "    Perform a basic arithmetic operation on two numbers.\n",
    "    Supported operations: add, sub, mul, div\n",
    "    \"\"\"\n",
    "    try:\n",
    "        if operation == \"add\":\n",
    "            result = first_num + second_num\n",
    "        elif operation == \"sub\":\n",
    "            result = first_num - second_num\n",
    "        elif operation == \"mul\":\n",
    "            result = first_num * second_num\n",
    "        elif operation == \"div\":\n",
    "            if second_num == 0:\n",
    "                return {\"error\": \"Division by zero is not allowed\"}\n",
    "            result = first_num / second_num\n",
    "        else:\n",
    "            return {\"error\": f\"Unsupported operation '{operation}'\"}\n",
    "        \n",
    "        return {\"first_num\": first_num, \"second_num\": second_num, \"operation\": operation, \"result\": result}\n",
    "\n",
    "    except Exception as e:\n",
    "        return {\"error\": str(e)}\n",
    "    \n",
    "@tool\n",
    "def get_stock_price(symbol: str) -> dict:\n",
    "    \"\"\"\n",
    "    Fetch latest stock price for a given symbol (e.g. 'AAPL', 'TSLA') \n",
    "    using Alpha Vantage with API key in the URL.\n",
    "    \"\"\"\n",
    "    url = f\"https://www.alphavantage.co/query?function=GLOBAL_QUOTE&symbol={symbol}&apikey=C9PE94QUEW9VWGFM\"\n",
    "    r = requests.get(url)\n",
    "    return r.json()"
   ]
  },
  {
   "cell_type": "code",
   "execution_count": 28,
   "id": "5338c667",
   "metadata": {},
   "outputs": [],
   "source": [
    "# Make tool list\n",
    "tools = [get_stock_price, search_tool, calculator]"
   ]
  },
  {
   "cell_type": "code",
   "execution_count": null,
   "id": "36650594",
   "metadata": {},
   "outputs": [],
   "source": [
    "# # Make the LLM tool-aware\n",
    "# llm_with_tools = llm.bind_tools(tools)"
   ]
  },
  {
   "cell_type": "code",
   "execution_count": 32,
   "id": "ac02d580",
   "metadata": {},
   "outputs": [],
   "source": [
    "class ChatState(TypedDict):\n",
    "    message: Annotated[list[BaseMessage], add_messages]"
   ]
  },
  {
   "cell_type": "code",
   "execution_count": 33,
   "id": "411ce10c",
   "metadata": {},
   "outputs": [],
   "source": [
    "# def chat_nide(state:ChatState):\n",
    "#     \"\"\"LLM node that may answer or request a tool call.\"\"\"\n",
    "#     messages = state['messages']\n",
    "#     response = llm_with_tools.invoke(messages)\n",
    "#     return {\"messages\": [response]}\n",
    "\n",
    "# tool_node = ToolNode(tools)  # Executes tool calls"
   ]
  },
  {
   "cell_type": "code",
   "execution_count": 34,
   "id": "a2acce32",
   "metadata": {},
   "outputs": [],
   "source": [
    "# # graph structure\n",
    "# graph = StateGraph(ChatState)\n",
    "# graph.add_node(\"chat_node\", chat_node)\n",
    "# graph.add_node(\"tools\", tool_node)"
   ]
  },
  {
   "cell_type": "code",
   "execution_count": 35,
   "id": "ee128a37",
   "metadata": {},
   "outputs": [],
   "source": [
    "# graph.add_edge(START, \"chat_node\")\n",
    "\n",
    "# # If the LLM asked for a tool, go to ToolNode; else finish\n",
    "# graph.add_conditional_edges(\"chat_node\", tools_condition)\n",
    "\n",
    "# graph.add_edge(\"tools\", \"chat_node\")  "
   ]
  },
  {
   "cell_type": "code",
   "execution_count": 36,
   "id": "5447c18d",
   "metadata": {},
   "outputs": [],
   "source": [
    "# chatbot = graph.compile()\n",
    "\n",
    "# chatbot"
   ]
  },
  {
   "cell_type": "code",
   "execution_count": 37,
   "id": "de56f74f",
   "metadata": {},
   "outputs": [],
   "source": [
    "# # Regular chat\n",
    "# out = chatbot.invoke({\"messages\": [HumanMessage(content=\"Hello!\")]})\n",
    "\n",
    "# print(out[\"messages\"][-1].content)"
   ]
  },
  {
   "cell_type": "code",
   "execution_count": 38,
   "id": "3fd469fd",
   "metadata": {},
   "outputs": [],
   "source": [
    "# # Chat requiring tool\n",
    "# out = chatbot.invoke({\"messages\": [HumanMessage(content=\"What is 2*3?\")]})\n",
    "# print(out[\"messages\"][-1].content)"
   ]
  },
  {
   "cell_type": "code",
   "execution_count": 39,
   "id": "8008af14",
   "metadata": {},
   "outputs": [],
   "source": [
    "# # Chat requiring tool\n",
    "# out = chatbot.invoke({\"messages\": [HumanMessage(content=\"What is the stock price of apple\")]})\n",
    "# print(out[\"messages\"][-1].content)"
   ]
  },
  {
   "cell_type": "code",
   "execution_count": 40,
   "id": "4a16f4cb",
   "metadata": {},
   "outputs": [],
   "source": [
    "# # Chat requiring tool\n",
    "# out = chatbot.invoke({\"messages\": [HumanMessage(content=\"First find out the stock price of Apple using get stock price tool then use the calculator tool to find out how much will it take to purchase 50 shares?\")]})\n",
    "# print(out[\"messages\"][-1].content)"
   ]
  },
  {
   "cell_type": "code",
   "execution_count": null,
   "id": "1fc718cb",
   "metadata": {},
   "outputs": [],
   "source": []
  }
 ],
 "metadata": {
  "kernelspec": {
   "display_name": "lg (3.9.12)",
   "language": "python",
   "name": "python3"
  },
  "language_info": {
   "codemirror_mode": {
    "name": "ipython",
    "version": 3
   },
   "file_extension": ".py",
   "mimetype": "text/x-python",
   "name": "python",
   "nbconvert_exporter": "python",
   "pygments_lexer": "ipython3",
   "version": "3.9.12"
  }
 },
 "nbformat": 4,
 "nbformat_minor": 5
}
