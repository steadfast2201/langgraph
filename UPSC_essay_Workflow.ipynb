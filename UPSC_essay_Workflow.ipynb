{
 "cells": [
  {
   "cell_type": "code",
   "execution_count": 21,
   "id": "d83e18d2",
   "metadata": {},
   "outputs": [],
   "source": [
    "from langgraph.graph import StateGraph, START, END\n",
    "from langchain_community.chat_models import ChatOllama\n",
    "from typing import TypedDict, Annotated\n",
    "from dotenv import load_dotenv\n",
    "from pydantic import BaseModel, Field\n",
    "import operator\n",
    "\n",
    "import warnings\n",
    "warnings.filterwarnings('ignore')"
   ]
  },
  {
   "cell_type": "code",
   "execution_count": 22,
   "id": "a0fcb922",
   "metadata": {},
   "outputs": [
    {
     "data": {
      "text/plain": [
       "True"
      ]
     },
     "execution_count": 22,
     "metadata": {},
     "output_type": "execute_result"
    }
   ],
   "source": [
    "load_dotenv()"
   ]
  },
  {
   "cell_type": "code",
   "execution_count": 23,
   "id": "c4b1b24d",
   "metadata": {},
   "outputs": [],
   "source": [
    "model = ChatOllama(model=\"llama2\", temperature=0)"
   ]
  },
  {
   "cell_type": "code",
   "execution_count": 24,
   "id": "f3a623e1",
   "metadata": {},
   "outputs": [],
   "source": [
    "class EvaluationSchema(BaseModel):\n",
    "\n",
    "    feedback:str = Field(description='Detailed Feedback for the Essay')\n",
    "    score:int = Field(description='Score out of 10', ge=1, le=10)\n"
   ]
  },
  {
   "cell_type": "code",
   "execution_count": 25,
   "id": "fc5080c2",
   "metadata": {},
   "outputs": [],
   "source": [
    "# Structured_Model = model.with_structured_output(EvaluationSchema)"
   ]
  },
  {
   "cell_type": "code",
   "execution_count": 26,
   "id": "ca5d7273",
   "metadata": {},
   "outputs": [],
   "source": [
    "essay = \"\"\"India in the Age of AI\n",
    "As the world enters a transformative era defined by artificial intelligence (AI), India stands at a critical juncture — one where it can either emerge as a global leader in AI innovation or risk falling behind in the technology race. The age of AI brings with it immense promise as well as unprecedented challenges, and how India navigates this landscape will shape its socio-economic and geopolitical future.\n",
    "\n",
    "India's strengths in the AI domain are rooted in its vast pool of skilled engineers, a thriving IT industry, and a growing startup ecosystem. With over 5 million STEM graduates annually and a burgeoning base of AI researchers, India possesses the intellectual capital required to build cutting-edge AI systems. Institutions like IITs, IIITs, and IISc have begun fostering AI research, while private players such as TCS, Infosys, and Wipro are integrating AI into their global services. In 2020, the government launched the National AI Strategy (AI for All) with a focus on inclusive growth, aiming to leverage AI in healthcare, agriculture, education, and smart mobility.\n",
    "\n",
    "One of the most promising applications of AI in India lies in agriculture, where predictive analytics can guide farmers on optimal sowing times, weather forecasts, and pest control. In healthcare, AI-powered diagnostics can help address India’s doctor-patient ratio crisis, particularly in rural areas. Educational platforms are increasingly using AI to personalize learning paths, while smart governance tools are helping improve public service delivery and fraud detection.\n",
    "\n",
    "However, the path to AI-led growth is riddled with challenges. Chief among them is the digital divide. While metropolitan cities may embrace AI-driven solutions, rural India continues to struggle with basic internet access and digital literacy. The risk of job displacement due to automation also looms large, especially for low-skilled workers. Without effective skilling and re-skilling programs, AI could exacerbate existing socio-economic inequalities.\n",
    "\n",
    "Another pressing concern is data privacy and ethics. As AI systems rely heavily on vast datasets, ensuring that personal data is used transparently and responsibly becomes vital. India is still shaping its data protection laws, and in the absence of a strong regulatory framework, AI systems may risk misuse or bias.\n",
    "\n",
    "To harness AI responsibly, India must adopt a multi-stakeholder approach involving the government, academia, industry, and civil society. Policies should promote open datasets, encourage responsible innovation, and ensure ethical AI practices. There is also a need for international collaboration, particularly with countries leading in AI research, to gain strategic advantage and ensure interoperability in global systems.\n",
    "\n",
    "India’s demographic dividend, when paired with responsible AI adoption, can unlock massive economic growth, improve governance, and uplift marginalized communities. But this vision will only materialize if AI is seen not merely as a tool for automation, but as an enabler of human-centered development.\n",
    "\n",
    "In conclusion, India in the age of AI is a story in the making — one of opportunity, responsibility, and transformation. The decisions we make today will not just determine India’s AI trajectory, but also its future as an inclusive, equitable, and innovation-driven society.\"\"\""
   ]
  },
  {
   "cell_type": "code",
   "execution_count": 27,
   "id": "9a37467d",
   "metadata": {},
   "outputs": [],
   "source": [
    "# prompt = f'Evaluate the language quality of the following essay and provide a feedback and assign a score out of 10 \\n {essay}'\n",
    "\n",
    "# structured_model.invoke()"
   ]
  },
  {
   "cell_type": "code",
   "execution_count": null,
   "id": "94617960",
   "metadata": {},
   "outputs": [],
   "source": [
    "class UPSCState(TypedDict):\n",
    "\n",
    "    essay: str\n",
    "    language_feedback: str\n",
    "    analysis_feedback: str\n",
    "    clarity_feedback: str\n",
    "    overall_feedback: str\n",
    "    individual_scores: Annotated[list[int], operator.add] \n",
    "    avg_score: float\n",
    "\n",
    "## Important Notes :\n",
    "# We will use a reducer Function named operator.add to add the three scores received parallely as it might show the problem of over right error."
   ]
  },
  {
   "cell_type": "code",
   "execution_count": null,
   "id": "a9c2983f",
   "metadata": {},
   "outputs": [],
   "source": [
    "# def evaluate_language(state: UPSCState):\n",
    "\n",
    "#     prompt = f'Evaluate the language quality of the following essay and provide a feedback and assign a score out of 10 \\n {state[\"essay\"]}'\n",
    "#     # output = structured_model.invoke(prompt)\n",
    "\n",
    "#     return {'language_feedback': output.feedback, 'individual_scores': [output.score]}\n",
    "\n",
    "\n",
    "# def evaluate_analysis(state: UPSCState):\n",
    "\n",
    "#     prompt = f'Evaluate the depth of analysis of the following essay and provide a feedback and assign a score out of 10 \\n {state[\"essay\"]}'\n",
    "#     output = structured_model.invoke(prompt)\n",
    "\n",
    "#     return {'analysis_feedback': output.feedback, 'individual_scores': [output.score]}\n",
    "\n",
    "\n",
    "# def evaluate_thought(state: UPSCState):\n",
    "\n",
    "#     prompt = f'Evaluate the clarity of thought of the following essay and provide a feedback and assign a score out of 10 \\n {state[\"essay\"]}'\n",
    "#     output = structured_model.invoke(prompt)\n",
    "\n",
    "#     return {'clarity_feedback': output.feedback, 'individual_scores': [output.score]}\n",
    "\n",
    "# def final_evaluation(state: UPSCState):\n",
    "\n",
    "#     # summary feedback\n",
    "#     prompt = f'Based on the following feedbacks create a summarized feedback \\n language feedback - {state[\"language_feedback\"]} \\n depth of analysis feedback - {state[\"analysis_feedback\"]} \\n clarity of thought feedback - {state[\"clarity_feedback\"]}'\n",
    "#     overall_feedback = model.invoke(prompt).content\n",
    "\n",
    "#     # avg calculate\n",
    "#     avg_score = sum(state['individual_scores'])/len(state['individual_scores'])\n",
    "\n",
    "#     return {'overall_feedback': overall_feedback, 'avg_score': avg_score}"
   ]
  },
  {
   "cell_type": "code",
   "execution_count": 30,
   "id": "4874bf24",
   "metadata": {},
   "outputs": [],
   "source": [
    "# graph = StateGraph(UPSCState)\n",
    "\n",
    "# graph.add_node('evaluate_language', evaluate_language)\n",
    "# graph.add_node('evaluate_analysis', evaluate_analysis)\n",
    "# graph.add_node('evaluate_thought', evaluate_thought)\n",
    "# graph.add_node('final_evaluation', final_evaluation)\n",
    "\n",
    "# # edges\n",
    "# graph.add_edge(START, 'evaluate_language')\n",
    "# graph.add_edge(START, 'evaluate_analysis')\n",
    "# graph.add_edge(START, 'evaluate_thought')\n",
    "\n",
    "# graph.add_edge('evaluate_language', 'final_evaluation')\n",
    "# graph.add_edge('evaluate_analysis', 'final_evaluation')\n",
    "# graph.add_edge('evaluate_thought', 'final_evaluation')\n",
    "\n",
    "# graph.add_edge('final_evaluation', END)\n",
    "\n",
    "# workflow = graph.compile()"
   ]
  },
  {
   "cell_type": "code",
   "execution_count": 31,
   "id": "f336ca29",
   "metadata": {},
   "outputs": [],
   "source": [
    "# workflow"
   ]
  },
  {
   "cell_type": "code",
   "execution_count": 32,
   "id": "0a6b9487",
   "metadata": {},
   "outputs": [],
   "source": [
    "# intial_state = {\n",
    "#     'essay': essay\n",
    "# }\n",
    "\n",
    "# workflow.invoke(intial_state)"
   ]
  },
  {
   "cell_type": "code",
   "execution_count": null,
   "id": "fc33e229",
   "metadata": {},
   "outputs": [],
   "source": []
  }
 ],
 "metadata": {
  "kernelspec": {
   "display_name": "lg (3.9.12)",
   "language": "python",
   "name": "python3"
  },
  "language_info": {
   "codemirror_mode": {
    "name": "ipython",
    "version": 3
   },
   "file_extension": ".py",
   "mimetype": "text/x-python",
   "name": "python",
   "nbconvert_exporter": "python",
   "pygments_lexer": "ipython3",
   "version": "3.9.12"
  }
 },
 "nbformat": 4,
 "nbformat_minor": 5
}
