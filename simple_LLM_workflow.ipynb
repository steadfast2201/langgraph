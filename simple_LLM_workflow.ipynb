{
 "cells": [
  {
   "cell_type": "code",
   "execution_count": 42,
   "id": "18776924",
   "metadata": {},
   "outputs": [],
   "source": [
    "from langgraph.graph import StateGraph, START, END\n",
    "from langchain_community.chat_models import ChatOllama\n",
    "from typing import TypedDict\n",
    "from dotenv import load_dotenv\n",
    "import warnings\n",
    "warnings.filterwarnings('ignore')"
   ]
  },
  {
   "cell_type": "code",
   "execution_count": 43,
   "id": "a4caede7",
   "metadata": {},
   "outputs": [
    {
     "data": {
      "text/plain": [
       "True"
      ]
     },
     "execution_count": 43,
     "metadata": {},
     "output_type": "execute_result"
    }
   ],
   "source": [
    "load_dotenv()"
   ]
  },
  {
   "cell_type": "code",
   "execution_count": 44,
   "id": "587cee9b",
   "metadata": {},
   "outputs": [],
   "source": [
    "# pick any model you have pulled via ollama (e.g., \"llama2\", \"mistral\")\n",
    "model = ChatOllama(model=\"deepseek-r1:latest\", temperature=0)"
   ]
  },
  {
   "cell_type": "code",
   "execution_count": 45,
   "id": "bada36f8",
   "metadata": {},
   "outputs": [],
   "source": [
    "class LLMState(TypedDict):\n",
    "\n",
    "    question: str\n",
    "    answer: str"
   ]
  },
  {
   "cell_type": "code",
   "execution_count": 46,
   "id": "45e6be4e",
   "metadata": {},
   "outputs": [],
   "source": [
    "def llm_qa(state: LLMState) -> LLMState:\n",
    "\n",
    "    # Extract the question from state\n",
    "    question = state['question']\n",
    "\n",
    "    # Form a prompt\n",
    "    prompt = f'Answer the following {question}'\n",
    "\n",
    "    # Ask that question to the LLM\n",
    "    answer = model.invoke(prompt).content\n",
    "\n",
    "    # Update the answer in the state\n",
    "    state['answer'] = answer  # type:ignore\n",
    "\n",
    "    return state"
   ]
  },
  {
   "cell_type": "code",
   "execution_count": 47,
   "id": "d030a455",
   "metadata": {},
   "outputs": [],
   "source": [
    "graph = StateGraph(LLMState)\n",
    "\n",
    "# Add Nodes\n",
    "graph.add_node('llm_qa', llm_qa)\n",
    "\n",
    "# Add Edges\n",
    "graph.add_edge(START, 'llm_qa')\n",
    "graph.add_edge('llm_qa', END)\n",
    "\n",
    "# Compile graph\n",
    "workflow = graph.compile()"
   ]
  },
  {
   "cell_type": "code",
   "execution_count": 50,
   "id": "6f8b9dca",
   "metadata": {},
   "outputs": [
    {
     "name": "stdout",
     "output_type": "stream",
     "text": [
      "<think>\n",
      "Okay, so I need to figure out how far the Moon is from Earth. Hmm, I remember hearing that it's about 238,900 miles away, but wait, isn't that an average distance? Because I think the Moon orbits around Earth in an elliptical path, so sometimes it's closer and sometimes farther away.\n",
      "\n",
      "Let me try to recall more details. I know that during a new moon phase, the Moon is between Earth and the Sun, making it appear dark from Earth. But when it's a full moon, we see the entire side of the Moon facing Earth, which makes it bright. So maybe those are the closest and farthest points? Or wait, no, actually, I think the Moon's orbit isn't that eccentric. Maybe the distance doesn't vary much.\n",
      "\n",
      "Wait, but I'm pretty sure there's a high and low tide effect related to the Moon's position. That might be due to tidal forces rather than the actual distance varying. So perhaps the average distance is around 238,900 miles, which converts to about 384,400 kilometers.\n",
      "\n",
      "I should also consider that this is an average because the Moon's orbit isn't perfectly circular. It has an elliptical shape with a slight eccentricity. The perigee (closest point) and apogee (farthest point) are slightly different from the average distance. But I think for most purposes, especially in general knowledge, people just use the average figure.\n",
      "\n",
      "I wonder if there's any recent data that might have updated this number. I know that the Moon is slowly moving away from Earth due to tidal forces and the rotation of the Earth-Moon system. So maybe over time, the distance has increased a bit beyond the traditional 238,900 miles figure.\n",
      "\n",
      "But for now, as an approximate answer, 238,900 miles or about 384,400 kilometers is commonly cited as the average distance from Earth to the Moon. I should probably mention that it's an average and note that there are slight variations due to its elliptical orbit.\n",
      "</think>\n",
      "\n",
      "The average distance from Earth to the Moon is approximately 238,900 miles (about 384,400 kilometers). However, this distance varies slightly throughout the Moon's orbit around Earth, which is elliptical. The closest point (perigee) and farthest point (apogee) are very close to this average figure but not exactly the same. Additionally, the Moon is slowly moving away from Earth due to tidal forces.\n",
      "\n",
      "**Answer:**  \n",
      "The average distance from Earth to the Moon is about 238,900 miles (approximately 384,400 kilometers). This distance varies slightly as the Moon orbits Earth in an elliptical path.\n"
     ]
    }
   ],
   "source": [
    "# Excute\n",
    "\n",
    "initial_state = {'question': 'How far is moon from the earth ?'}\n",
    "\n",
    "final_state = workflow.invoke(initial_state) # type:ignore\n",
    "\n",
    "print(final_state['answer'])"
   ]
  },
  {
   "cell_type": "code",
   "execution_count": null,
   "id": "fc49013a",
   "metadata": {},
   "outputs": [],
   "source": []
  }
 ],
 "metadata": {
  "kernelspec": {
   "display_name": "lg (3.9.12)",
   "language": "python",
   "name": "python3"
  },
  "language_info": {
   "codemirror_mode": {
    "name": "ipython",
    "version": 3
   },
   "file_extension": ".py",
   "mimetype": "text/x-python",
   "name": "python",
   "nbconvert_exporter": "python",
   "pygments_lexer": "ipython3",
   "version": "3.9.12"
  }
 },
 "nbformat": 4,
 "nbformat_minor": 5
}
